{
 "cells": [
  {
   "cell_type": "code",
   "execution_count": 1,
   "id": "a2a9ca36-5a16-4ba2-bcec-a3794004d2b0",
   "metadata": {
    "tags": []
   },
   "outputs": [
    {
     "name": "stdout",
     "output_type": "stream",
     "text": [
      "\u001b[33mWARNING: The directory '/home/jovyan/.cache/pip' or its parent directory is not owned or is not writable by the current user. The cache has been disabled. Check the permissions and owner of that directory. If executing pip with sudo, you should use sudo's -H flag.\u001b[0m\u001b[33m\n",
      "\u001b[0mCollecting qiskit\n",
      "  Downloading qiskit-0.41.1.tar.gz (14 kB)\n",
      "  Preparing metadata (setup.py) ... \u001b[?25ldone\n",
      "\u001b[?25hCollecting qiskit-terra==0.23.2\n",
      "  Downloading qiskit_terra-0.23.2-cp310-cp310-manylinux_2_17_x86_64.manylinux2014_x86_64.whl (5.1 MB)\n",
      "\u001b[2K     \u001b[90m━━━━━━━━━━━━━━━━━━━━━━━━━━━━━━━━━━━━━━━━\u001b[0m \u001b[32m5.1/5.1 MB\u001b[0m \u001b[31m4.8 MB/s\u001b[0m eta \u001b[36m0:00:00\u001b[0ma \u001b[36m0:00:01\u001b[0m\n",
      "\u001b[?25hCollecting qiskit-aer==0.11.2\n",
      "  Downloading qiskit_aer-0.11.2-cp310-cp310-manylinux_2_17_x86_64.manylinux2014_x86_64.whl (12.8 MB)\n",
      "\u001b[2K     \u001b[90m━━━━━━━━━━━━━━━━━━━━━━━━━━━━━━━━━━━━━━━━\u001b[0m \u001b[32m12.8/12.8 MB\u001b[0m \u001b[31m5.2 MB/s\u001b[0m eta \u001b[36m0:00:00\u001b[0m00:01\u001b[0m00:01\u001b[0m\n",
      "\u001b[?25hCollecting qiskit-ibmq-provider==0.20.1\n",
      "  Downloading qiskit_ibmq_provider-0.20.1-py3-none-any.whl (241 kB)\n",
      "\u001b[2K     \u001b[90m━━━━━━━━━━━━━━━━━━━━━━━━━━━━━━━━━━━━━━━\u001b[0m \u001b[32m241.3/241.3 kB\u001b[0m \u001b[31m4.9 MB/s\u001b[0m eta \u001b[36m0:00:00\u001b[0ma \u001b[36m0:00:01\u001b[0m\n",
      "\u001b[?25hRequirement already satisfied: scipy>=1.0 in /opt/conda/lib/python3.10/site-packages (from qiskit-aer==0.11.2->qiskit) (1.10.1)\n",
      "Requirement already satisfied: numpy>=1.16.3 in /opt/conda/lib/python3.10/site-packages (from qiskit-aer==0.11.2->qiskit) (1.24.2)\n",
      "Requirement already satisfied: urllib3~=1.26.0 in /opt/conda/lib/python3.10/site-packages (from qiskit-ibmq-provider==0.20.1->qiskit) (1.26.14)\n",
      "Collecting requests-ntlm~=1.1.0\n",
      "  Downloading requests_ntlm-1.1.0-py2.py3-none-any.whl (5.7 kB)\n",
      "Requirement already satisfied: websocket-client~=1.5.1 in /opt/conda/lib/python3.10/site-packages (from qiskit-ibmq-provider==0.20.1->qiskit) (1.5.1)\n",
      "Requirement already satisfied: requests~=2.28.0 in /opt/conda/lib/python3.10/site-packages (from qiskit-ibmq-provider==0.20.1->qiskit) (2.28.2)\n",
      "Collecting websockets~=10.0\n",
      "  Downloading websockets-10.4-cp310-cp310-manylinux_2_5_x86_64.manylinux1_x86_64.manylinux_2_17_x86_64.manylinux2014_x86_64.whl (106 kB)\n",
      "\u001b[2K     \u001b[90m━━━━━━━━━━━━━━━━━━━━━━━━━━━━━━━━━━━━━━━\u001b[0m \u001b[32m106.8/106.8 kB\u001b[0m \u001b[31m5.5 MB/s\u001b[0m eta \u001b[36m0:00:00\u001b[0m\n",
      "\u001b[?25hCollecting numpy>=1.16.3\n",
      "  Downloading numpy-1.23.5-cp310-cp310-manylinux_2_17_x86_64.manylinux2014_x86_64.whl (17.1 MB)\n",
      "\u001b[2K     \u001b[90m━━━━━━━━━━━━━━━━━━━━━━━━━━━━━━━━━━━━━━━━\u001b[0m \u001b[32m17.1/17.1 MB\u001b[0m \u001b[31m5.1 MB/s\u001b[0m eta \u001b[36m0:00:00\u001b[0m00:01\u001b[0m00:01\u001b[0m\n",
      "\u001b[?25hRequirement already satisfied: python-dateutil~=2.8.0 in /opt/conda/lib/python3.10/site-packages (from qiskit-ibmq-provider==0.20.1->qiskit) (2.8.2)\n",
      "Requirement already satisfied: psutil>=5 in /opt/conda/lib/python3.10/site-packages (from qiskit-terra==0.23.2->qiskit) (5.9.4)\n",
      "Collecting stevedore>=3.0.0\n",
      "  Downloading stevedore-5.0.0-py3-none-any.whl (49 kB)\n",
      "\u001b[2K     \u001b[90m━━━━━━━━━━━━━━━━━━━━━━━━━━━━━━━━━━━━━━━━\u001b[0m \u001b[32m49.6/49.6 kB\u001b[0m \u001b[31m6.8 MB/s\u001b[0m eta \u001b[36m0:00:00\u001b[0m\n",
      "\u001b[?25hCollecting ply>=3.10\n",
      "  Downloading ply-3.11-py2.py3-none-any.whl (49 kB)\n",
      "\u001b[2K     \u001b[90m━━━━━━━━━━━━━━━━━━━━━━━━━━━━━━━━━━━━━━━━\u001b[0m \u001b[32m49.6/49.6 kB\u001b[0m \u001b[31m40.7 MB/s\u001b[0m eta \u001b[36m0:00:00\u001b[0m\n",
      "\u001b[?25hCollecting rustworkx>=0.12.0\n",
      "  Downloading rustworkx-0.12.1-cp310-cp310-manylinux_2_17_x86_64.manylinux2014_x86_64.whl (1.9 MB)\n",
      "\u001b[2K     \u001b[90m━━━━━━━━━━━━━━━━━━━━━━━━━━━━━━━━━━━━━━━━\u001b[0m \u001b[32m1.9/1.9 MB\u001b[0m \u001b[31m5.6 MB/s\u001b[0m eta \u001b[36m0:00:00\u001b[0ma \u001b[36m0:00:01\u001b[0m\n",
      "\u001b[?25hCollecting symengine>=0.9\n",
      "  Downloading symengine-0.9.2-cp310-cp310-manylinux2010_x86_64.whl (37.5 MB)\n",
      "\u001b[2K     \u001b[90m━━━━━━━━━━━━━━━━━━━━━━━━━━━━━━━━━━━━━━━━\u001b[0m \u001b[32m37.5/37.5 MB\u001b[0m \u001b[31m5.0 MB/s\u001b[0m eta \u001b[36m0:00:00\u001b[0m00:01\u001b[0m00:01\u001b[0m\n",
      "\u001b[?25hCollecting sympy>=1.3\n",
      "  Downloading sympy-1.11.1-py3-none-any.whl (6.5 MB)\n",
      "\u001b[2K     \u001b[90m━━━━━━━━━━━━━━━━━━━━━━━━━━━━━━━━━━━━━━━━\u001b[0m \u001b[32m6.5/6.5 MB\u001b[0m \u001b[31m4.9 MB/s\u001b[0m eta \u001b[36m0:00:00\u001b[0m00:01\u001b[0m00:01\u001b[0m\n",
      "\u001b[?25hCollecting dill>=0.3\n",
      "  Downloading dill-0.3.6-py3-none-any.whl (110 kB)\n",
      "\u001b[2K     \u001b[90m━━━━━━━━━━━━━━━━━━━━━━━━━━━━━━━━━━━━━━\u001b[0m \u001b[32m110.5/110.5 kB\u001b[0m \u001b[31m21.5 MB/s\u001b[0m eta \u001b[36m0:00:00\u001b[0m\n",
      "\u001b[?25hRequirement already satisfied: six>=1.5 in /opt/conda/lib/python3.10/site-packages (from python-dateutil~=2.8.0->qiskit-ibmq-provider==0.20.1->qiskit) (1.16.0)\n",
      "Requirement already satisfied: idna<4,>=2.5 in /opt/conda/lib/python3.10/site-packages (from requests~=2.28.0->qiskit-ibmq-provider==0.20.1->qiskit) (3.4)\n",
      "Requirement already satisfied: charset-normalizer<4,>=2 in /opt/conda/lib/python3.10/site-packages (from requests~=2.28.0->qiskit-ibmq-provider==0.20.1->qiskit) (2.1.1)\n",
      "Requirement already satisfied: certifi>=2017.4.17 in /opt/conda/lib/python3.10/site-packages (from requests~=2.28.0->qiskit-ibmq-provider==0.20.1->qiskit) (2022.12.7)\n",
      "Requirement already satisfied: cryptography>=1.3 in /opt/conda/lib/python3.10/site-packages (from requests-ntlm~=1.1.0->qiskit-ibmq-provider==0.20.1->qiskit) (39.0.2)\n",
      "Collecting ntlm-auth>=1.0.2\n",
      "  Downloading ntlm_auth-1.5.0-py2.py3-none-any.whl (29 kB)\n",
      "Collecting pbr!=2.1.0,>=2.0.0\n",
      "  Downloading pbr-5.11.1-py2.py3-none-any.whl (112 kB)\n",
      "\u001b[2K     \u001b[90m━━━━━━━━━━━━━━━━━━━━━━━━━━━━━━━━━━━━━━━\u001b[0m \u001b[32m112.7/112.7 kB\u001b[0m \u001b[31m3.2 MB/s\u001b[0m eta \u001b[36m0:00:00\u001b[0m\n",
      "\u001b[?25hCollecting mpmath>=0.19\n",
      "  Downloading mpmath-1.3.0-py3-none-any.whl (536 kB)\n",
      "\u001b[2K     \u001b[90m━━━━━━━━━━━━━━━━━━━━━━━━━━━━━━━━━━━━━━━\u001b[0m \u001b[32m536.2/536.2 kB\u001b[0m \u001b[31m4.5 MB/s\u001b[0m eta \u001b[36m0:00:00\u001b[0ma \u001b[36m0:00:01\u001b[0m\n",
      "\u001b[?25hRequirement already satisfied: cffi>=1.12 in /opt/conda/lib/python3.10/site-packages (from cryptography>=1.3->requests-ntlm~=1.1.0->qiskit-ibmq-provider==0.20.1->qiskit) (1.15.1)\n",
      "Requirement already satisfied: pycparser in /opt/conda/lib/python3.10/site-packages (from cffi>=1.12->cryptography>=1.3->requests-ntlm~=1.1.0->qiskit-ibmq-provider==0.20.1->qiskit) (2.21)\n",
      "Building wheels for collected packages: qiskit\n",
      "  Building wheel for qiskit (setup.py) ... \u001b[?25ldone\n",
      "\u001b[?25h  Created wheel for qiskit: filename=qiskit-0.41.1-py3-none-any.whl size=12898 sha256=2d2a6f121771af93486f2a92954d16f4b00c2db723c193e4b7605dc571003bcf\n",
      "  Stored in directory: /tmp/pip-ephem-wheel-cache-ca9t5k9i/wheels/2f/83/1e/2254d92cbe1dbf0b4e7291510e14dcccc5dfdd2de76862d55e\n",
      "Successfully built qiskit\n",
      "Installing collected packages: ply, mpmath, websockets, sympy, symengine, pbr, numpy, ntlm-auth, dill, stevedore, rustworkx, requests-ntlm, qiskit-terra, qiskit-ibmq-provider, qiskit-aer, qiskit\n",
      "  Attempting uninstall: numpy\n",
      "    Found existing installation: numpy 1.24.2\n",
      "    Uninstalling numpy-1.24.2:\n",
      "      Successfully uninstalled numpy-1.24.2\n",
      "Successfully installed dill-0.3.6 mpmath-1.3.0 ntlm-auth-1.5.0 numpy-1.23.5 pbr-5.11.1 ply-3.11 qiskit-0.41.1 qiskit-aer-0.11.2 qiskit-ibmq-provider-0.20.1 qiskit-terra-0.23.2 requests-ntlm-1.1.0 rustworkx-0.12.1 stevedore-5.0.0 symengine-0.9.2 sympy-1.11.1 websockets-10.4\n",
      "\u001b[33mWARNING: Running pip as the 'root' user can result in broken permissions and conflicting behaviour with the system package manager. It is recommended to use a virtual environment instead: https://pip.pypa.io/warnings/venv\u001b[0m\u001b[33m\n",
      "\u001b[0m"
     ]
    }
   ],
   "source": [
    "!pip install qiskit"
   ]
  },
  {
   "cell_type": "code",
   "execution_count": 16,
   "id": "185f3d0b-9689-4c2f-bfcb-3adb011be82a",
   "metadata": {
    "tags": []
   },
   "outputs": [
    {
     "name": "stdout",
     "output_type": "stream",
     "text": [
      "\u001b[33mWARNING: The directory '/home/jovyan/.cache/pip' or its parent directory is not owned or is not writable by the current user. The cache has been disabled. Check the permissions and owner of that directory. If executing pip with sudo, you should use sudo's -H flag.\u001b[0m\u001b[33m\n",
      "\u001b[0mRequirement already satisfied: tqdm in /opt/conda/lib/python3.10/site-packages (4.65.0)\n",
      "\u001b[33mWARNING: Running pip as the 'root' user can result in broken permissions and conflicting behaviour with the system package manager. It is recommended to use a virtual environment instead: https://pip.pypa.io/warnings/venv\u001b[0m\u001b[33m\n",
      "\u001b[0m"
     ]
    }
   ],
   "source": [
    "!pip install tqdm"
   ]
  },
  {
   "cell_type": "code",
   "execution_count": 17,
   "id": "7e70135f-8a90-4b1b-b2cc-0775f25d6b70",
   "metadata": {
    "tags": []
   },
   "outputs": [],
   "source": [
    "import warnings; warnings.simplefilter('ignore')\n",
    "\n",
    "from qiskit import QuantumCircuit, execute, Aer, IBMQ,QuantumRegister,ClassicalRegister\n",
    "from qiskit.compiler import transpile, assemble\n",
    "from qiskit.tools.monitor import job_monitor\n",
    "from qiskit.visualization import *\n",
    "\n",
    "import operator\n",
    "\n",
    "\n",
    "import math\n",
    "import csv\n",
    "import random\n",
    "from qiskit import transpile, schedule as build_schedule\n",
    "\n",
    "from tqdm import tqdm\n",
    "import sys\n",
    "\n",
    "import contextlib\n"
   ]
  },
  {
   "cell_type": "code",
   "execution_count": 4,
   "id": "b3565a35-7e2f-4d95-8ece-dd9f52e8772c",
   "metadata": {
    "tags": []
   },
   "outputs": [],
   "source": [
    "from qiskit import IBMQ\n",
    "IBMQ.save_account(\"2a8c9616aea0e7a684e9b4c3e2efc756847f326adbb130b86a3ccb0b6fca805fa4c2a45ba6fbea9624888efb55bc9ddfccc71add0e7599b20be354ef82f5642b\")"
   ]
  },
  {
   "cell_type": "markdown",
   "id": "193d1783-2eb9-4347-b85c-63c1003a4589",
   "metadata": {},
   "source": [
    "## RQGA Configurations"
   ]
  },
  {
   "cell_type": "code",
   "execution_count": 8,
   "id": "b7cd6556-7477-4a90-bc5a-8d3a9dcda63a",
   "metadata": {
    "tags": []
   },
   "outputs": [],
   "source": [
    "\n",
    "NO_OF_QUBITS_FITNESS = 8\n",
    "\n",
    "NO_OF_QUBITS_INDIVIDUAL = 5\n",
    "POPULATION_SIZE = 2**NO_OF_QUBITS_INDIVIDUAL \n",
    "NO_OF_MAX_GROVER_ITERATIONS = int(math.sqrt(2**NO_OF_QUBITS_INDIVIDUAL))-1\n",
    "#Do not change\n",
    "NO_OF_QUBITS_CARRY = 2 * NO_OF_MAX_GROVER_ITERATIONS + 1"
   ]
  },
  {
   "cell_type": "markdown",
   "id": "0a1e3b42-078c-4be5-8540-3ef09fb796e7",
   "metadata": {},
   "source": [
    "## Utility functions"
   ]
  },
  {
   "cell_type": "code",
   "execution_count": 6,
   "id": "1073088c-d299-4c8b-b014-f79a16745318",
   "metadata": {
    "tags": []
   },
   "outputs": [],
   "source": [
    "def to_binary(value, number_of_bits, lsb=False):\n",
    "    \"\"\"\n",
    "    Function return two's complement representation\n",
    "    :param value: value in decimal representation\n",
    "    :param number_of_bits: number of bits used for representation\n",
    "    :returns: np.array that represents the binary representation\n",
    "    >>> to_binary(10,4)\n",
    "    array([1, 0, 1, 0])\n",
    "    >>> to_binary(10,4,True)\n",
    "    array([0, 1, 0, 1])\n",
    "    \"\"\"\n",
    "    if lsb == True:\n",
    "        return flip(array(list(binary_repr(value, number_of_bits)), dtype=int))\n",
    "    return array(list(binary_repr(value, number_of_bits)), dtype=int)"
   ]
  },
  {
   "cell_type": "code",
   "execution_count": 7,
   "id": "74f8c58a-0923-4b1f-8d38-725c92e0ec8f",
   "metadata": {
    "tags": []
   },
   "outputs": [],
   "source": [
    "def fitness_function():\n",
    "    return 10"
   ]
  },
  {
   "cell_type": "code",
   "execution_count": 10,
   "id": "793efd10-b3b2-4952-b7b0-25cfdbbb91cd",
   "metadata": {
    "tags": []
   },
   "outputs": [],
   "source": [
    "def calculate_fitness(solution):\n",
    "    return 10"
   ]
  },
  {
   "cell_type": "code",
   "execution_count": 9,
   "id": "03f313d6-9df2-41b5-8716-3bb289dfd16c",
   "metadata": {
    "tags": []
   },
   "outputs": [],
   "source": [
    "def get_random_value():\n",
    "    # 2 ^ (M+1) < max < 2 ^ (M+2)\n",
    "    return random.randrange(0,2**(NO_OF_QUBITS_FITNESS))"
   ]
  },
  {
   "cell_type": "code",
   "execution_count": 11,
   "id": "ca9beb3a-c9ff-4583-8f8c-daf608f2b2d2",
   "metadata": {
    "tags": []
   },
   "outputs": [],
   "source": [
    "def get_ufit_instruction(individual_mho):\n",
    "    #define and initialize the individual quantum register\n",
    "    ind_qreg = QuantumRegister(NO_OF_QUBITS_INDIVIDUAL-METAHEURISTIC_GENE_LENGTH,\"ind_qreg\")\n",
    "    #define and initialize the fitness quantum register. \n",
    "    fit_qreg = QuantumRegister(NO_OF_QUBITS_FITNESS+1,\"fit_qreg\")\n",
    "    #create the ufit subcircuit\n",
    "    qc = QuantumCircuit(ind_qreg,fit_qreg,name=\"U$_fit$\")\n",
    "    for i in range(0,POPULATION_SIZE):\n",
    "        \"\"\"\n",
    "        For each individual in population get the two's complement representation and \n",
    "        set the qubits on 1 using X-gate, according to the binary representation\n",
    "        \"\"\"\n",
    "        individual_binary = to_binary(i, NO_OF_QUBITS_INDIVIDUAL, True)\n",
    "        \n",
    "        for k in range(0,NO_OF_QUBITS_INDIVIDUAL):\n",
    "            if individual_binary[k] == 0:\n",
    "                qc.x(ind_qreg[k])\n",
    "        \"\"\"\n",
    "        Calculate the fitness value and get the two's complement representation of the fitness value.\n",
    "        \"\"\"        \n",
    "        \n",
    "        valid,fitness_value = calculate_fitness(individual_binary)\n",
    "        fitness_value_binary = to_binary(fitness_value,NO_OF_QUBITS_FITNESS,True)\n",
    "        \n",
    "        \n",
    "\n",
    "        \"\"\"\n",
    "        Set the fitness value in fitness quantum register for each individual and mark it valid or invalid\n",
    "        \"\"\"\n",
    "        for k in range(0,NO_OF_QUBITS_FITNESS):\n",
    "            if fitness_value_binary[k]==1:\n",
    "                qc.mct([ind_qreg[j] for j in range(0,NO_OF_QUBITS_INDIVIDUAL-METAHEURISTIC_GENE_LENGTH)],fit_qreg[k])\n",
    "        #if fitness value si greater than 0 then set the valid qubit to 1\n",
    "        if valid == True:\n",
    "            qc.mct([ind_qreg[j] for j in range(0,NO_OF_QUBITS_INDIVIDUAL-METAHEURISTIC_GENE_LENGTH)],fit_qreg[NO_OF_QUBITS_FITNESS])\n",
    "        \n",
    "        \n",
    "        #reset individual\n",
    "        for k in range(0,NO_OF_QUBITS_INDIVIDUAL):\n",
    "            if individual_binary[k] == 0:\n",
    "                qc.x(ind_qreg[k])\n",
    "        qc.barrier()\n",
    "    return qc.to_instruction()"
   ]
  },
  {
   "cell_type": "code",
   "execution_count": 12,
   "id": "3acdfe18-b2bf-41e1-809c-4a53c3182a36",
   "metadata": {
    "tags": []
   },
   "outputs": [],
   "source": [
    "def get_oracle_instruction(positive_value_array):\n",
    "    #define and initialize fitness quantum register\n",
    "    fit_reg = QuantumRegister(NO_OF_QUBITS_FITNESS,\"fqreg\")\n",
    "    #define and initialize max quantum register\n",
    "    no_of_edges_reg=QuantumRegister(NO_OF_QUBITS_FITNESS,\"noqreg\")\n",
    "    #define and initialize carry quantum register\n",
    "    carry_reg = QuantumRegister(3,\"cqreg\")\n",
    "    #define and initialize oracle workspace quantum register\n",
    "    oracle = QuantumRegister(1,\"oqreg\")\n",
    "    #create Oracle subcircuit\n",
    "    oracle_circ = QuantumCircuit(fit_reg,no_of_edges_reg,carry_reg,oracle,name=\"O\")\n",
    "    \n",
    "    #define majority operator\n",
    "    def majority(circ,a,b,c):\n",
    "        circ.cx(c,b)\n",
    "        circ.cx(c,a)\n",
    "        circ.ccx(a, b, c)\n",
    "    #define unmajority operator\n",
    "    def unmaj(circ,a,b,c):\n",
    "        circ.ccx(a, b, c)\n",
    "        circ.cx(c, a)\n",
    "        circ.cx(a, b)\n",
    "    #define the Quantum Ripple Carry Adder\n",
    "    def adder_8_qubits(p,a0,a1,a2,a3,a4,a5,a6,a7,b0,b1,b2,b3,b4,b5,b6,b7,cin,cout):\n",
    "        majority(p, cin, b0, a0)\n",
    "        majority(p, a0, b1, a1)\n",
    "        majority(p, a1, b2, a2)\n",
    "        majority(p, a2, b3, a3)\n",
    "        majority(p, a3, b4, a4)\n",
    "        majority(p, a4, b5, a5)\n",
    "        majority(p, a5, b6, a6)\n",
    "        majority(p, a6, b7, a7)\n",
    "        \n",
    "        p.cx(a7, cout)\n",
    "        \n",
    "        unmaj(p, a6, b7, a7)\n",
    "        unmaj(p, a5, b6, a6)\n",
    "        unmaj(p, a4, b5, a5)\n",
    "        unmaj(p, a3, b4, a4)\n",
    "        unmaj(p, a2, b3, a3)\n",
    "        unmaj(p, a1, b2, a2)\n",
    "        unmaj(p, a0, b1, a1)\n",
    "        unmaj(p, cin, b0, a0)\n",
    "    \n",
    "    \"\"\"\n",
    "    Subtract max value. We start by storing the max value in the quantum register. Such, considering that \n",
    "    all qubits are |0>, if on position i in positive_value_array there's 0, then qubit i will be negated. Otherwise, \n",
    "    if on position i in positive_value_array there's a 1, by default will remain 0 in no_of_edges_reg quantum\n",
    "    register. For performing subtraction, carry-in will be set to 1.\n",
    "    \"\"\"\n",
    "    for i in range(0,NO_OF_QUBITS_FITNESS):\n",
    "        if positive_value_array[i]==0:\n",
    "            oracle_circ.x(no_of_edges_reg[i])\n",
    "    oracle_circ.x(carry_reg[0])\n",
    "\n",
    "    adder_8_qubits(oracle_circ, \n",
    "            no_of_edges_reg[0],no_of_edges_reg[1],no_of_edges_reg[2],no_of_edges_reg[3],\n",
    "            no_of_edges_reg[4],no_of_edges_reg[5],no_of_edges_reg[6],no_of_edges_reg[7],       \n",
    "            fit_reg[0],fit_reg[1],fit_reg[2],fit_reg[3],\n",
    "            fit_reg[4],fit_reg[5],fit_reg[6],fit_reg[7],\n",
    "               carry_reg[0],carry_reg[1]);\n",
    "\n",
    "    \n",
    "    oracle_circ.barrier()\n",
    "    \"\"\"\n",
    "    Reset the value in no_of_edges_reg and carry-in\n",
    "    \"\"\"\n",
    "    oracle_circ.x(no_of_edges_reg)\n",
    "    oracle_circ.x(carry_reg[0])\n",
    "    \n",
    "    \"\"\"\n",
    "    Mark the corresponding basis states by shifting their amplitudes.\n",
    "    \"\"\"\n",
    "    \n",
    "    oracle_circ.h(oracle[0])\n",
    "    oracle_circ.mct([fit_reg[i] for i in range(0,NO_OF_QUBITS_FITNESS)],oracle[0])\n",
    "    oracle_circ.h(oracle[0])\n",
    "    \n",
    "    \"\"\"\n",
    "    Restore the fitness value by adding max value.\n",
    "    \"\"\"\n",
    "    adder_8_qubits(oracle_circ, \n",
    "            no_of_edges_reg[0],no_of_edges_reg[1],no_of_edges_reg[2],no_of_edges_reg[3],\n",
    "            no_of_edges_reg[4],no_of_edges_reg[5],no_of_edges_reg[6],no_of_edges_reg[7],       \n",
    "            fit_reg[0],fit_reg[1],fit_reg[2],fit_reg[3],\n",
    "            fit_reg[4],fit_reg[5],fit_reg[6],fit_reg[7],\n",
    "            carry_reg[0],carry_reg[2]);\n",
    "    return oracle_circ.to_instruction()"
   ]
  },
  {
   "cell_type": "code",
   "execution_count": 13,
   "id": "9c05c8aa-5ca6-4988-8f84-29bb01f6e955",
   "metadata": {
    "tags": []
   },
   "outputs": [],
   "source": [
    "def get_grover_iteration_subcircuit():\n",
    "    #define and initialize fitness quantum register\n",
    "    fit_qreg = QuantumRegister(NO_OF_QUBITS_FITNESS+1,\"fqreg\")\n",
    "    #define and initialize oracle workspace quantum register\n",
    "    oracle_ws = QuantumRegister(1,\"ows\")\n",
    "    #create grover diffuser subcircuit\n",
    "    grover_circ = QuantumCircuit(fit_qreg,oracle_ws,name =\"U$_s$\")\n",
    "\n",
    "    grover_circ.h(fit_qreg)\n",
    "    grover_circ.x(fit_qreg)\n",
    "\n",
    "    grover_circ.h(oracle_ws[0])\n",
    "\n",
    "    grover_circ.mct(list(range(NO_OF_QUBITS_FITNESS+1)), oracle_ws[0])  # multi-controlled-toffoli\n",
    "\n",
    "    grover_circ.h(oracle_ws[0])\n",
    "\n",
    "\n",
    "    grover_circ.x(fit_qreg)\n",
    "    grover_circ.h(fit_qreg)\n",
    "    grover_circ.h(oracle_ws)\n",
    "\n",
    "    return grover_circ.to_instruction()\n"
   ]
  },
  {
   "cell_type": "code",
   "execution_count": 14,
   "id": "eed0332b-ca52-4506-8232-4e8e9894a13b",
   "metadata": {
    "tags": []
   },
   "outputs": [],
   "source": [
    "def run_algorithm(run_no, writer):\n",
    "    #Load IBMQ account\n",
    "    IBMQ.load_account()\n",
    "    #calculate the number of edges in graph\n",
    "    max_value = 0\n",
    "    new_fitness_value = get_random_value()\n",
    "    print(\"Max value:{0}\".format(new_fitness_value))\n",
    "    #define a list for storing the results\n",
    "    final_results = []\n",
    "    \n",
    "    number_of_ga_generations = 0\n",
    "\n",
    "    print(\"Preparing quantum registers and creating quantum circuit...\")\n",
    "    ind_qreg = QuantumRegister(NO_OF_QUBITS_INDIVIDUAL,\"ireg\")\n",
    "    fit_qreg = QuantumRegister(NO_OF_QUBITS_FITNESS+1,\"freg\")\n",
    "    carry_qreg = QuantumRegister(NO_OF_QUBITS_CARRY,\"qcarry\")\n",
    "    oracle = QuantumRegister(1,\"oracle\")\n",
    "    creg = ClassicalRegister(NO_OF_QUBITS_INDIVIDUAL,\"reg\")\n",
    "    max_value_qreg = QuantumRegister(NO_OF_QUBITS_FITNESS,\"max_value_qreg\")\n",
    "\n",
    "    print(\"Creating quantum circuit...\")\n",
    "\n",
    "    qc = QuantumCircuit(ind_qreg,fit_qreg,carry_qreg,oracle,max_value_qreg,creg)\n",
    "\n",
    "    print(\"Creating superposition of individuals...\")\n",
    "    qc.h(ind_qreg)\n",
    "    qc.h(oracle)\n",
    "    \n",
    "    print(\"Getting ufit, oracle and grover iterations subcircuits...\")\n",
    "    ufit_instr = get_ufit_instruction(individual_mho)\n",
    "  \n",
    "\n",
    "    print(\"Append Ufit instruction to circuit...\")\n",
    "    qc.append(ufit_instr, [ind_qreg[q] for q in range(0,NO_OF_QUBITS_INDIVIDUAL)]+\n",
    "                          [fit_qreg[q] for q in range(0,NO_OF_QUBITS_FITNESS+1)]\n",
    "            )\n",
    "    generation = 0\n",
    "    while new_fitness_value != max_value and generation < 8:\n",
    "        max_value = new_fitness_value\n",
    "        max_value_bin = to_binary(max_value,NO_OF_QUBITS_FITNESS,True)\n",
    "        oracle_instr = get_oracle_instruction(max_value_bin)\n",
    "        grover_iter_inst = get_grover_iteration_subcircuit()\n",
    "        for it in range(0,NO_OF_MAX_GROVER_ITERATIONS):\n",
    "            print(\"Append Oracle instruction to circuit...\")\n",
    "\n",
    "            qc.append(oracle_instr,[fit_qreg[q] for q in range(0,NO_OF_QUBITS_FITNESS)]+\n",
    "                               [max_value_qreg[q] for q in range(0,NO_OF_QUBITS_FITNESS)]+\n",
    "                               [carry_qreg[0],carry_qreg[2*it+1],carry_qreg[2*it+2]]+\n",
    "                               [oracle[0]]\n",
    "                     )\n",
    "            print(\"Append Grover Diffuser to circuit...\")\n",
    "            qc.append(grover_iter_inst, [fit_qreg[q] for q in range(0,NO_OF_QUBITS_FITNESS+1)]+\n",
    "                                        [oracle[0]]\n",
    "                     )\n",
    "\n",
    "        print(\"Measure circuit...\")\n",
    "        qc.measure(ind_qreg,creg)\n",
    "\n",
    "        simulation_results = []\n",
    "\n",
    "        provider = IBMQ.get_provider(hub='ibm-q',group='open', project='main')\n",
    "        backend = provider.get_backend('simulator_mps')\n",
    "        # Perform 10 measurements for each circuit\n",
    "       \n",
    "        print(\"Setup simulator...\")    \n",
    "        shots = 16\n",
    "        try:\n",
    "            print(\"Starting simulator...\")\n",
    "            mapped_circuit = transpile(qc, backend=backend)\n",
    "            qobj = assemble(mapped_circuit, backend=backend, shots=shots)\n",
    "            runner = backend.run(qobj)\n",
    "            job_monitor(runner)\n",
    "            results = runner.result()\n",
    "            answer = results.get_counts()\n",
    "            #Get the result with the maximum number of counts\n",
    "            max_item =max(answer.items(), key=operator.itemgetter(1))\n",
    "            solution_individual=string_to_list(max_item[0])\n",
    "            solution_individual=recreate_individual(individual_mho,solution_individual)\n",
    "            _,new_fitness_value=calculate_individual_fitness(solution_individual)\n",
    "            new_fitness_value = abs(new_fitness_value)\n",
    "            writer.writerow({\"algo_run_no\":run_no,\"solution\":solution_individual, \"fitness_value\":new_fitness_value,\"rqga_generation\":generation,\"ga_generation\":number_of_ga_generations})\n",
    "\n",
    "            print(\"Found solution {0} with fitness {1}...\".format(solution_individual,new_fitness_value))\n",
    "        except Exception as e:\n",
    "            print(str(e))\n",
    "        generation+=1\n",
    "        qc.reset(max_value_qreg)"
   ]
  },
  {
   "cell_type": "markdown",
   "id": "347d527e-10db-47ee-8ae8-9c4e55bace27",
   "metadata": {},
   "source": [
    "## RUN"
   ]
  },
  {
   "cell_type": "code",
   "execution_count": null,
   "id": "d212c18a-1c5c-424f-8e2c-93f48bf2fd72",
   "metadata": {},
   "outputs": [],
   "source": [
    "\n",
    "\n",
    "with open(\"results.csv\", \"w\", newline='') as csvfile:\n",
    "    fieldnames = [\"algo_run_no\", \"solution\", \"fitness_value\",\"rqga_generation\", \"ga_generation\"]\n",
    "    writer = csv.DictWriter(csvfile,fieldnames=fieldnames)\n",
    "    writer.writeheader()\n",
    "\n",
    "    for i in tqdm(range(100)):\n",
    "        run_algorithm(i,writer)"
   ]
  }
 ],
 "metadata": {
  "kernelspec": {
   "display_name": "Python 3 (ipykernel)",
   "language": "python",
   "name": "python3"
  },
  "language_info": {
   "codemirror_mode": {
    "name": "ipython",
    "version": 3
   },
   "file_extension": ".py",
   "mimetype": "text/x-python",
   "name": "python",
   "nbconvert_exporter": "python",
   "pygments_lexer": "ipython3",
   "version": "3.10.9"
  }
 },
 "nbformat": 4,
 "nbformat_minor": 5
}
